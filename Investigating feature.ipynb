{
 "cells": [
  {
   "cell_type": "code",
   "execution_count": 1,
   "id": "4df0440f",
   "metadata": {},
   "outputs": [],
   "source": [
    "import ipywidgets as widget\n",
    "from dataset import Cells\n",
    "from models import Encoder, Decoder, VAE\n",
    "from graphics import Graphics\n",
    "import numpy as np\n",
    "import torch\n",
    "import matplotlib.pyplot as plt\n",
    "from ipywidgets import FloatSlider, IntSlider, interact, BoundedIntText\n",
    "from tqdm import tqdm\n",
    "from sklearn.metrics.pairwise import cosine_similarity"
   ]
  },
  {
   "cell_type": "code",
   "execution_count": null,
   "id": "eb8f6f0b",
   "metadata": {},
   "outputs": [],
   "source": []
  },
  {
   "cell_type": "code",
   "execution_count": 2,
   "id": "cd9a49a1",
   "metadata": {},
   "outputs": [
    {
     "name": "stdout",
     "output_type": "stream",
     "text": [
      "Model loaded!\n"
     ]
    }
   ],
   "source": [
    "latent_size = 500\n",
    "\n",
    "data = np.load(\"celle_data.npy\")\n",
    "train_data = Cells(data)\n",
    "dataloader = torch.utils.data.DataLoader(\n",
    "    train_data, batch_size=128,\n",
    "    drop_last=True, shuffle=True)\n",
    "\n",
    "encoder = Encoder(latent_size)\n",
    "decoder = Decoder(latent_size)\n",
    "\n",
    "vae = VAE(encoder, decoder)\n",
    "plots = Graphics(vae, train_data)\n",
    "\n",
    "vae.load_model(\"betavae\")"
   ]
  },
  {
   "cell_type": "code",
   "execution_count": 3,
   "id": "32486dda",
   "metadata": {},
   "outputs": [
    {
     "name": "stdout",
     "output_type": "stream",
     "text": [
      "Finding interesting features..\n"
     ]
    },
    {
     "name": "stderr",
     "output_type": "stream",
     "text": [
      "100%|████████████████████████████████████████████████████████████████████████████████| 500/500 [00:30<00:00, 16.58it/s]\n"
     ]
    },
    {
     "data": {
      "text/plain": [
       "[<matplotlib.lines.Line2D at 0x231264900a0>]"
      ]
     },
     "execution_count": 3,
     "metadata": {},
     "output_type": "execute_result"
    },
    {
     "data": {
      "image/png": "[encoded data removed]",
      "text/plain": [
       "<Figure size 640x480 with 1 Axes>"
      ]
     },
     "metadata": {},
     "output_type": "display_data"
    }
   ],
   "source": [
    "print(\"Finding interesting features..\")\n",
    "sim_scores = np.zeros(500)\n",
    "space = torch.linspace(-4, 4, 10)\n",
    "for i in tqdm(range(500)):\n",
    "    zs = torch.zeros(11, 500)\n",
    "    zs[1:, i] = space\n",
    "    decodings = vae.decode(zs)\n",
    "    sim = cosine_similarity(decodings[0,:].reshape(1,-1), decodings[1:,:])\n",
    "    sim_scores[i] = np.mean(sim)\n",
    "\n",
    "plt.plot(sim_scores, \"o\", ms=3)\n"
   ]
  },
  {
   "cell_type": "code",
   "execution_count": 4,
   "id": "130a3c31",
   "metadata": {},
   "outputs": [],
   "source": [
    "def changing_feature(idx, value):\n",
    "    random_z[int(idx)] = value\n",
    "    encoding = vae.decode(random_z)\n",
    "    plt.imshow(encoding.reshape(68,68,3))\n",
    "    plt.xticks([])\n",
    "    plt.yticks([])"
   ]
  },
  {
   "cell_type": "code",
   "execution_count": 11,
   "id": "f501aacf",
   "metadata": {},
   "outputs": [
    {
     "data": {
      "application/vnd.jupyter.widget-view+json": {
       "model_id": "ad8baa4f880a43659fb1ea174ea34b69",
       "version_major": 2,
       "version_minor": 0
      },
      "text/plain": [
       "interactive(children=(BoundedIntText(value=0, description='idx', max=499), FloatSlider(value=0.0, description=…"
      ]
     },
     "metadata": {},
     "output_type": "display_data"
    },
    {
     "name": "stdout",
     "output_type": "stream",
     "text": [
      "The interesting features:\n",
      "[  1  22  23  41  43  51  61  73  86 105 110 123 166 218 321 337 379 458\n",
      " 464 471 479 493 494]\n"
     ]
    }
   ],
   "source": [
    "random_z = torch.randn(500)\n",
    "def interact_feature():\n",
    "    ## Plot parameters\n",
    "\n",
    "    ## Generate the user interface.\n",
    "    idx_input = BoundedIntText(min=0, max=499, step=1)\n",
    "    value_slider = value=FloatSlider(min=-4, max=4, step=0.1)\n",
    "    \n",
    "    interact(changing_feature, idx = idx_input, value = value_slider)\n",
    "\n",
    "interact_feature();\n",
    "print(\"The interesting features:\")\n",
    "print(np.where((sim_scores < 0.98))[0])"
   ]
  },
  {
   "cell_type": "code",
   "execution_count": null,
   "id": "7dc13077",
   "metadata": {},
   "outputs": [],
   "source": []
  }
 ],
 "metadata": {
  "kernelspec": {
   "display_name": "Python 3 (ipykernel)",
   "language": "python",
   "name": "python3"
  },
  "language_info": {
   "codemirror_mode": {
    "name": "ipython",
    "version": 3
   },
   "file_extension": ".py",
   "mimetype": "text/x-python",
   "name": "python",
   "nbconvert_exporter": "python",
   "pygments_lexer": "ipython3",
   "version": "3.8.8"
  }
 },
 "nbformat": 4,
 "nbformat_minor": 5
}
